{
 "cells": [
  {
   "cell_type": "code",
   "execution_count": 1,
   "metadata": {},
   "outputs": [
    {
     "data": {
      "text/plain": [
       "'2.0.39'"
      ]
     },
     "execution_count": 1,
     "metadata": {},
     "output_type": "execute_result"
    }
   ],
   "source": [
    "import sqlalchemy\n",
    "sqlalchemy.__version__"
   ]
  },
  {
   "cell_type": "code",
   "execution_count": 4,
   "metadata": {},
   "outputs": [],
   "source": [
    "import sqlalchemy as db  # Fixed import syntax\n",
    "\n",
    "# Create a database engine\n",
    "engine = db.create_engine(\"sqlite:///european_database.sqlite\")\n",
    "\n",
    "# Establish a connection using context manager (recommended)\n",
    "with engine.connect() as conn:\n",
    "    # Database operations would go here\n",
    "    pass"
   ]
  },
  {
   "cell_type": "code",
   "execution_count": null,
   "metadata": {},
   "outputs": [
    {
     "name": "stdout",
     "output_type": "stream",
     "text": [
      "Country: Germany, Population: 83000000\n"
     ]
    }
   ],
   "source": [
    "import sqlalchemy as db\n",
    "from sqlalchemy import text  # For writing SQL queries\n",
    "\n",
    "# Create engine\n",
    "engine = db.create_engine(\"sqlite:///european_database.sqlite\")\n",
    "\n",
    "# Create tables (if needed)\n",
    "metadata = db.MetaData()\n",
    "countries = db.Table(\n",
    "    'countries', metadata,\n",
    "    db.Column('id', db.Integer, primary_key=True),\n",
    "    db.Column('name', db.String(255), nullable=False),\n",
    "    db.Column('population', db.Integer)\n",
    ")\n",
    "metadata.create_all(engine)\n",
    "\n",
    "# Using the connection\n",
    "with engine.connect() as conn:\n",
    "    # Insert data\n",
    "    insert_stmt = countries.insert().values(name='Germany', population=83000000)\n",
    "    conn.execute(insert_stmt)\n",
    "\n",
    "    # Query data\n",
    "    select_stmt = text(\"SELECT * FROM countries\")\n",
    "    result = conn.execute(select_stmt)\n",
    "\n",
    "    # Print results\n",
    "    for row in result:\n",
    "        print(f\"Country: {row.name}, Population: {row.population}\")"
   ]
  },
  {
   "cell_type": "code",
   "execution_count": null,
   "metadata": {},
   "outputs": [],
   "source": []
  }
 ],
 "metadata": {
  "kernelspec": {
   "display_name": "Python 3",
   "language": "python",
   "name": "python3"
  },
  "language_info": {
   "codemirror_mode": {
    "name": "ipython",
    "version": 3
   },
   "file_extension": ".py",
   "mimetype": "text/x-python",
   "name": "python",
   "nbconvert_exporter": "python",
   "pygments_lexer": "ipython3",
   "version": "3.12.5"
  }
 },
 "nbformat": 4,
 "nbformat_minor": 2
}
